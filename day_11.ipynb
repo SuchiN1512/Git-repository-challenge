{
 "cells": [
  {
   "cell_type": "markdown",
   "metadata": {},
   "source": [
    "# Data cleaning and operationalization\n",
    "\n",
    "I'm going to introduce a dataset of vehicle crashes in Indiana, show how to import it into pandas, and give examples of a few ways of exploring this data.\n",
    "\n",
    "**Download the data from [here](https://github.com/jdfoote/Intro-to-Programming-and-Data-Science/blob/master/resources/data/aries_crash_data_2018_filtered.csv?raw=true)**. I created this CSV file from [this full dataset](https://hub.mph.in.gov/dataset/aries-crash-data-2007-2017/resource/cc90589c-72d8-4d92-a5fe-73254b555c73) by filtering out many of the columns to make it small enough to easily fit in memory.\n",
    "\n",
    "A description of the columns is [here](https://one.nhtsa.gov/nhtsa/stateCatalog/states/in/docs/IN_CrashDD_ARIES_5_enhancements_11_30_11.pdf).\n",
    "\n",
    "Then, I want you to form groups of 2-4 where you identify a hypothesis about this data, brainstorm a visualization or set of visualizations that would give you insight into your hypothesis, and then try to create that visualization in Python."
   ]
  },
  {
   "cell_type": "code",
   "execution_count": 1,
   "metadata": {},
   "outputs": [],
   "source": [
    "import pandas as pd\n",
    "import matplotlib.pyplot as plt\n",
    "import seaborn as sns"
   ]
  },
  {
   "cell_type": "code",
   "execution_count": 2,
   "metadata": {},
   "outputs": [],
   "source": [
    "# This code downloads the CSV every time it's run.\n",
    "# Instead, you may want to download the CSV to your computer, and load it from there\n",
    "# You can use the same code, just change the path to where you download it\n",
    "raw_df = pd.read_csv('https://github.com/jdfoote/Intro-to-Programming-and-Data-Science/blob/master/resources/data/aries_crash_data_2018_filtered.csv?raw=true')"
   ]
  },
  {
   "cell_type": "markdown",
   "metadata": {},
   "source": [
    "## Understanding and Cleaning the data\n",
    "\n",
    "I always start by looking at the data to make sure things look reasonable and to figure out what we are looking at."
   ]
  },
  {
   "cell_type": "code",
   "execution_count": 3,
   "metadata": {},
   "outputs": [
    {
     "data": {
      "text/html": [
       "<div>\n",
       "<style scoped>\n",
       "    .dataframe tbody tr th:only-of-type {\n",
       "        vertical-align: middle;\n",
       "    }\n",
       "\n",
       "    .dataframe tbody tr th {\n",
       "        vertical-align: top;\n",
       "    }\n",
       "\n",
       "    .dataframe thead th {\n",
       "        text-align: right;\n",
       "    }\n",
       "</style>\n",
       "<table border=\"1\" class=\"dataframe\">\n",
       "  <thead>\n",
       "    <tr style=\"text-align: right;\">\n",
       "      <th></th>\n",
       "      <th>INDIVIDUAL_MR_RECORD</th>\n",
       "      <th>PERSONTYPEDESCR</th>\n",
       "      <th>GENDERCDE</th>\n",
       "      <th>AGE_GRP</th>\n",
       "      <th>INJNATUREDESCR</th>\n",
       "      <th>RESULTDRUGIND</th>\n",
       "      <th>COLLDTE</th>\n",
       "      <th>COLLISION_TIME</th>\n",
       "      <th>COLLISION_TIME_AM_PM</th>\n",
       "      <th>CITYDESCR</th>\n",
       "      <th>INJUREDNMB</th>\n",
       "      <th>DEADNMB</th>\n",
       "      <th>WEATHERDESCR</th>\n",
       "      <th>PRIMARYFACTORDESCR</th>\n",
       "    </tr>\n",
       "  </thead>\n",
       "  <tbody>\n",
       "    <tr>\n",
       "      <th>0</th>\n",
       "      <td>903091099</td>\n",
       "      <td>Owner Vehicle</td>\n",
       "      <td>NaN</td>\n",
       "      <td>NaN</td>\n",
       "      <td>NaN</td>\n",
       "      <td>NaN</td>\n",
       "      <td>2018-01-08</td>\n",
       "      <td>03:31</td>\n",
       "      <td>PM</td>\n",
       "      <td>Indianapolis</td>\n",
       "      <td>0.0</td>\n",
       "      <td>0.0</td>\n",
       "      <td>Clear</td>\n",
       "      <td>UNSAFE BACKING</td>\n",
       "    </tr>\n",
       "    <tr>\n",
       "      <th>1</th>\n",
       "      <td>903084265</td>\n",
       "      <td>Owner Vehicle</td>\n",
       "      <td>NaN</td>\n",
       "      <td>NaN</td>\n",
       "      <td>NaN</td>\n",
       "      <td>NaN</td>\n",
       "      <td>2018-01-17</td>\n",
       "      <td>09:56</td>\n",
       "      <td>AM</td>\n",
       "      <td>Indianapolis</td>\n",
       "      <td>0.0</td>\n",
       "      <td>0.0</td>\n",
       "      <td>Clear</td>\n",
       "      <td>UNSAFE BACKING</td>\n",
       "    </tr>\n",
       "    <tr>\n",
       "      <th>2</th>\n",
       "      <td>903085095</td>\n",
       "      <td>Owner Vehicle</td>\n",
       "      <td>NaN</td>\n",
       "      <td>NaN</td>\n",
       "      <td>NaN</td>\n",
       "      <td>NaN</td>\n",
       "      <td>2018-01-18</td>\n",
       "      <td>07:54</td>\n",
       "      <td>AM</td>\n",
       "      <td>Indianapolis</td>\n",
       "      <td>0.0</td>\n",
       "      <td>0.0</td>\n",
       "      <td>Clear</td>\n",
       "      <td>FAILURE TO YIELD RIGHT OF WAY</td>\n",
       "    </tr>\n",
       "    <tr>\n",
       "      <th>3</th>\n",
       "      <td>903085099</td>\n",
       "      <td>Owner Vehicle</td>\n",
       "      <td>NaN</td>\n",
       "      <td>NaN</td>\n",
       "      <td>NaN</td>\n",
       "      <td>NaN</td>\n",
       "      <td>2018-01-18</td>\n",
       "      <td>10:29</td>\n",
       "      <td>AM</td>\n",
       "      <td>Indianapolis</td>\n",
       "      <td>0.0</td>\n",
       "      <td>0.0</td>\n",
       "      <td>Clear</td>\n",
       "      <td>FOLLOWING TOO CLOSELY</td>\n",
       "    </tr>\n",
       "    <tr>\n",
       "      <th>4</th>\n",
       "      <td>903091166</td>\n",
       "      <td>Owner Vehicle</td>\n",
       "      <td>NaN</td>\n",
       "      <td>NaN</td>\n",
       "      <td>NaN</td>\n",
       "      <td>NaN</td>\n",
       "      <td>2018-01-25</td>\n",
       "      <td>11:31</td>\n",
       "      <td>AM</td>\n",
       "      <td>Indianapolis</td>\n",
       "      <td>0.0</td>\n",
       "      <td>0.0</td>\n",
       "      <td>Clear</td>\n",
       "      <td>UNSAFE BACKING</td>\n",
       "    </tr>\n",
       "    <tr>\n",
       "      <th>...</th>\n",
       "      <td>...</td>\n",
       "      <td>...</td>\n",
       "      <td>...</td>\n",
       "      <td>...</td>\n",
       "      <td>...</td>\n",
       "      <td>...</td>\n",
       "      <td>...</td>\n",
       "      <td>...</td>\n",
       "      <td>...</td>\n",
       "      <td>...</td>\n",
       "      <td>...</td>\n",
       "      <td>...</td>\n",
       "      <td>...</td>\n",
       "      <td>...</td>\n",
       "    </tr>\n",
       "    <tr>\n",
       "      <th>752365</th>\n",
       "      <td>903266706</td>\n",
       "      <td>NaN</td>\n",
       "      <td>NaN</td>\n",
       "      <td>NaN</td>\n",
       "      <td>NaN</td>\n",
       "      <td>NaN</td>\n",
       "      <td>2018-11-23</td>\n",
       "      <td>09:49</td>\n",
       "      <td>PM</td>\n",
       "      <td>Jeffersonville</td>\n",
       "      <td>0.0</td>\n",
       "      <td>0.0</td>\n",
       "      <td>Rain</td>\n",
       "      <td>FAILURE TO YIELD RIGHT OF WAY</td>\n",
       "    </tr>\n",
       "    <tr>\n",
       "      <th>752366</th>\n",
       "      <td>903265919</td>\n",
       "      <td>Driver</td>\n",
       "      <td>M</td>\n",
       "      <td>15-24 Years</td>\n",
       "      <td>NaN</td>\n",
       "      <td>NaN</td>\n",
       "      <td>2018-11-24</td>\n",
       "      <td>01:40</td>\n",
       "      <td>AM</td>\n",
       "      <td>Anderson</td>\n",
       "      <td>0.0</td>\n",
       "      <td>0.0</td>\n",
       "      <td>Rain</td>\n",
       "      <td>UNSAFE BACKING</td>\n",
       "    </tr>\n",
       "    <tr>\n",
       "      <th>752367</th>\n",
       "      <td>903273868</td>\n",
       "      <td>NaN</td>\n",
       "      <td>NaN</td>\n",
       "      <td>NaN</td>\n",
       "      <td>NaN</td>\n",
       "      <td>NaN</td>\n",
       "      <td>2018-12-05</td>\n",
       "      <td>02:12</td>\n",
       "      <td>PM</td>\n",
       "      <td>Mishawaka</td>\n",
       "      <td>0.0</td>\n",
       "      <td>0.0</td>\n",
       "      <td>Clear</td>\n",
       "      <td>UNSAFE LANE MOVEMENT</td>\n",
       "    </tr>\n",
       "    <tr>\n",
       "      <th>752368</th>\n",
       "      <td>903276031</td>\n",
       "      <td>NaN</td>\n",
       "      <td>NaN</td>\n",
       "      <td>NaN</td>\n",
       "      <td>NaN</td>\n",
       "      <td>NaN</td>\n",
       "      <td>2018-12-08</td>\n",
       "      <td>02:15</td>\n",
       "      <td>PM</td>\n",
       "      <td>Indianapolis</td>\n",
       "      <td>0.0</td>\n",
       "      <td>0.0</td>\n",
       "      <td>Clear</td>\n",
       "      <td>OTHER (DRIVER),EXPLAIN IN NARRATIVE</td>\n",
       "    </tr>\n",
       "    <tr>\n",
       "      <th>752369</th>\n",
       "      <td>903290927</td>\n",
       "      <td>Driver</td>\n",
       "      <td>M</td>\n",
       "      <td>45-54 Years</td>\n",
       "      <td>NaN</td>\n",
       "      <td>NaN</td>\n",
       "      <td>2018-12-27</td>\n",
       "      <td>11:45</td>\n",
       "      <td>AM</td>\n",
       "      <td>Indianapolis</td>\n",
       "      <td>0.0</td>\n",
       "      <td>0.0</td>\n",
       "      <td>Rain</td>\n",
       "      <td>FAILURE TO YIELD RIGHT OF WAY</td>\n",
       "    </tr>\n",
       "  </tbody>\n",
       "</table>\n",
       "<p>752370 rows × 14 columns</p>\n",
       "</div>"
      ],
      "text/plain": [
       "        INDIVIDUAL_MR_RECORD PERSONTYPEDESCR GENDERCDE      AGE_GRP  \\\n",
       "0                  903091099   Owner Vehicle       NaN          NaN   \n",
       "1                  903084265   Owner Vehicle       NaN          NaN   \n",
       "2                  903085095   Owner Vehicle       NaN          NaN   \n",
       "3                  903085099   Owner Vehicle       NaN          NaN   \n",
       "4                  903091166   Owner Vehicle       NaN          NaN   \n",
       "...                      ...             ...       ...          ...   \n",
       "752365             903266706             NaN       NaN          NaN   \n",
       "752366             903265919          Driver         M  15-24 Years   \n",
       "752367             903273868             NaN       NaN          NaN   \n",
       "752368             903276031             NaN       NaN          NaN   \n",
       "752369             903290927          Driver         M  45-54 Years   \n",
       "\n",
       "       INJNATUREDESCR RESULTDRUGIND     COLLDTE COLLISION_TIME  \\\n",
       "0                 NaN           NaN  2018-01-08          03:31   \n",
       "1                 NaN           NaN  2018-01-17          09:56   \n",
       "2                 NaN           NaN  2018-01-18          07:54   \n",
       "3                 NaN           NaN  2018-01-18          10:29   \n",
       "4                 NaN           NaN  2018-01-25          11:31   \n",
       "...               ...           ...         ...            ...   \n",
       "752365            NaN           NaN  2018-11-23          09:49   \n",
       "752366            NaN           NaN  2018-11-24          01:40   \n",
       "752367            NaN           NaN  2018-12-05          02:12   \n",
       "752368            NaN           NaN  2018-12-08          02:15   \n",
       "752369            NaN           NaN  2018-12-27          11:45   \n",
       "\n",
       "       COLLISION_TIME_AM_PM       CITYDESCR  INJUREDNMB  DEADNMB WEATHERDESCR  \\\n",
       "0                        PM    Indianapolis         0.0      0.0        Clear   \n",
       "1                        AM    Indianapolis         0.0      0.0        Clear   \n",
       "2                        AM    Indianapolis         0.0      0.0        Clear   \n",
       "3                        AM    Indianapolis         0.0      0.0        Clear   \n",
       "4                        AM    Indianapolis         0.0      0.0        Clear   \n",
       "...                     ...             ...         ...      ...          ...   \n",
       "752365                   PM  Jeffersonville         0.0      0.0         Rain   \n",
       "752366                   AM        Anderson         0.0      0.0         Rain   \n",
       "752367                   PM       Mishawaka         0.0      0.0        Clear   \n",
       "752368                   PM    Indianapolis         0.0      0.0        Clear   \n",
       "752369                   AM    Indianapolis         0.0      0.0         Rain   \n",
       "\n",
       "                         PRIMARYFACTORDESCR  \n",
       "0                            UNSAFE BACKING  \n",
       "1                            UNSAFE BACKING  \n",
       "2             FAILURE TO YIELD RIGHT OF WAY  \n",
       "3                     FOLLOWING TOO CLOSELY  \n",
       "4                            UNSAFE BACKING  \n",
       "...                                     ...  \n",
       "752365        FAILURE TO YIELD RIGHT OF WAY  \n",
       "752366                       UNSAFE BACKING  \n",
       "752367                 UNSAFE LANE MOVEMENT  \n",
       "752368  OTHER (DRIVER),EXPLAIN IN NARRATIVE  \n",
       "752369        FAILURE TO YIELD RIGHT OF WAY  \n",
       "\n",
       "[752370 rows x 14 columns]"
      ]
     },
     "execution_count": 3,
     "metadata": {},
     "output_type": "execute_result"
    }
   ],
   "source": [
    "raw_df"
   ]
  },
  {
   "cell_type": "markdown",
   "metadata": {},
   "source": [
    "It looks like Gender and age and drug test results are all NA for the first few rows. Let's check how often they were recorded."
   ]
  },
  {
   "cell_type": "code",
   "execution_count": 4,
   "metadata": {},
   "outputs": [
    {
     "data": {
      "text/plain": [
       "INDIVIDUAL_MR_RECORD         0\n",
       "PERSONTYPEDESCR          15406\n",
       "GENDERCDE               399734\n",
       "AGE_GRP                 398761\n",
       "INJNATUREDESCR          703796\n",
       "RESULTDRUGIND           750311\n",
       "COLLDTE                      0\n",
       "COLLISION_TIME               0\n",
       "COLLISION_TIME_AM_PM        10\n",
       "CITYDESCR                  757\n",
       "INJUREDNMB                 615\n",
       "DEADNMB                    404\n",
       "WEATHERDESCR              1070\n",
       "PRIMARYFACTORDESCR        2864\n",
       "dtype: int64"
      ]
     },
     "execution_count": 4,
     "metadata": {},
     "output_type": "execute_result"
    }
   ],
   "source": [
    "raw_df.isna().sum()"
   ]
  },
  {
   "cell_type": "code",
   "execution_count": 5,
   "metadata": {},
   "outputs": [
    {
     "data": {
      "text/plain": [
       "752370"
      ]
     },
     "execution_count": 5,
     "metadata": {},
     "output_type": "execute_result"
    }
   ],
   "source": [
    "# This is the total number of rows\n",
    "len(raw_df)"
   ]
  },
  {
   "cell_type": "markdown",
   "metadata": {},
   "source": [
    "So, it looks like the drug test column \"RESULTDRUGIND\" is going to be pretty useless. It's almost never recorded.\n",
    "\n",
    "It looks like age and gender are only recorded about half the time. Let's look a little closer into the data and see if we can figure out what's going on."
   ]
  },
  {
   "cell_type": "markdown",
   "metadata": {},
   "source": [
    "It's still not totally clear what this data represents. From the description, we can see that the Individual MR Record refers to each incident, so let's so how many of them there are:"
   ]
  },
  {
   "cell_type": "code",
   "execution_count": 6,
   "metadata": {},
   "outputs": [
    {
     "data": {
      "text/plain": [
       "216968"
      ]
     },
     "execution_count": 6,
     "metadata": {},
     "output_type": "execute_result"
    }
   ],
   "source": [
    "len(raw_df.INDIVIDUAL_MR_RECORD.unique())"
   ]
  },
  {
   "cell_type": "markdown",
   "metadata": {},
   "source": [
    "Far fewer than the total rows. Let's sort by that, and see if we can figure out more."
   ]
  },
  {
   "cell_type": "code",
   "execution_count": 7,
   "metadata": {},
   "outputs": [
    {
     "data": {
      "text/html": [
       "<div>\n",
       "<style scoped>\n",
       "    .dataframe tbody tr th:only-of-type {\n",
       "        vertical-align: middle;\n",
       "    }\n",
       "\n",
       "    .dataframe tbody tr th {\n",
       "        vertical-align: top;\n",
       "    }\n",
       "\n",
       "    .dataframe thead th {\n",
       "        text-align: right;\n",
       "    }\n",
       "</style>\n",
       "<table border=\"1\" class=\"dataframe\">\n",
       "  <thead>\n",
       "    <tr style=\"text-align: right;\">\n",
       "      <th></th>\n",
       "      <th>INDIVIDUAL_MR_RECORD</th>\n",
       "      <th>PERSONTYPEDESCR</th>\n",
       "      <th>GENDERCDE</th>\n",
       "      <th>AGE_GRP</th>\n",
       "      <th>INJNATUREDESCR</th>\n",
       "      <th>RESULTDRUGIND</th>\n",
       "      <th>COLLDTE</th>\n",
       "      <th>COLLISION_TIME</th>\n",
       "      <th>COLLISION_TIME_AM_PM</th>\n",
       "      <th>CITYDESCR</th>\n",
       "      <th>INJUREDNMB</th>\n",
       "      <th>DEADNMB</th>\n",
       "      <th>WEATHERDESCR</th>\n",
       "      <th>PRIMARYFACTORDESCR</th>\n",
       "    </tr>\n",
       "  </thead>\n",
       "  <tbody>\n",
       "    <tr>\n",
       "      <th>577508</th>\n",
       "      <td>903070479</td>\n",
       "      <td>Driver</td>\n",
       "      <td>F</td>\n",
       "      <td>45-54 Years</td>\n",
       "      <td>Complaint of Pain</td>\n",
       "      <td>NaN</td>\n",
       "      <td>2018-01-01</td>\n",
       "      <td>12:03</td>\n",
       "      <td>AM</td>\n",
       "      <td>Fort Wayne</td>\n",
       "      <td>3.0</td>\n",
       "      <td>0.0</td>\n",
       "      <td>Cloudy</td>\n",
       "      <td>DISREGARD SIGNAL/REG SIGN</td>\n",
       "    </tr>\n",
       "    <tr>\n",
       "      <th>533542</th>\n",
       "      <td>903070479</td>\n",
       "      <td>Injured</td>\n",
       "      <td>M</td>\n",
       "      <td>15-24 Years</td>\n",
       "      <td>Complaint of Pain</td>\n",
       "      <td>NaN</td>\n",
       "      <td>2018-01-01</td>\n",
       "      <td>12:03</td>\n",
       "      <td>AM</td>\n",
       "      <td>Fort Wayne</td>\n",
       "      <td>3.0</td>\n",
       "      <td>0.0</td>\n",
       "      <td>Cloudy</td>\n",
       "      <td>DISREGARD SIGNAL/REG SIGN</td>\n",
       "    </tr>\n",
       "    <tr>\n",
       "      <th>237545</th>\n",
       "      <td>903070479</td>\n",
       "      <td>Owner Vehicle</td>\n",
       "      <td>NaN</td>\n",
       "      <td>NaN</td>\n",
       "      <td>NaN</td>\n",
       "      <td>NaN</td>\n",
       "      <td>2018-01-01</td>\n",
       "      <td>12:03</td>\n",
       "      <td>AM</td>\n",
       "      <td>Fort Wayne</td>\n",
       "      <td>3.0</td>\n",
       "      <td>0.0</td>\n",
       "      <td>Cloudy</td>\n",
       "      <td>DISREGARD SIGNAL/REG SIGN</td>\n",
       "    </tr>\n",
       "    <tr>\n",
       "      <th>534723</th>\n",
       "      <td>903070479</td>\n",
       "      <td>Driver</td>\n",
       "      <td>M</td>\n",
       "      <td>25-34 Years</td>\n",
       "      <td>Complaint of Pain</td>\n",
       "      <td>NaN</td>\n",
       "      <td>2018-01-01</td>\n",
       "      <td>12:03</td>\n",
       "      <td>AM</td>\n",
       "      <td>Fort Wayne</td>\n",
       "      <td>3.0</td>\n",
       "      <td>0.0</td>\n",
       "      <td>Cloudy</td>\n",
       "      <td>DISREGARD SIGNAL/REG SIGN</td>\n",
       "    </tr>\n",
       "    <tr>\n",
       "      <th>240277</th>\n",
       "      <td>903070479</td>\n",
       "      <td>Owner Vehicle</td>\n",
       "      <td>NaN</td>\n",
       "      <td>NaN</td>\n",
       "      <td>NaN</td>\n",
       "      <td>NaN</td>\n",
       "      <td>2018-01-01</td>\n",
       "      <td>12:03</td>\n",
       "      <td>AM</td>\n",
       "      <td>Fort Wayne</td>\n",
       "      <td>3.0</td>\n",
       "      <td>0.0</td>\n",
       "      <td>Cloudy</td>\n",
       "      <td>DISREGARD SIGNAL/REG SIGN</td>\n",
       "    </tr>\n",
       "    <tr>\n",
       "      <th>...</th>\n",
       "      <td>...</td>\n",
       "      <td>...</td>\n",
       "      <td>...</td>\n",
       "      <td>...</td>\n",
       "      <td>...</td>\n",
       "      <td>...</td>\n",
       "      <td>...</td>\n",
       "      <td>...</td>\n",
       "      <td>...</td>\n",
       "      <td>...</td>\n",
       "      <td>...</td>\n",
       "      <td>...</td>\n",
       "      <td>...</td>\n",
       "      <td>...</td>\n",
       "    </tr>\n",
       "    <tr>\n",
       "      <th>630468</th>\n",
       "      <td>903384692</td>\n",
       "      <td>Driver</td>\n",
       "      <td>M</td>\n",
       "      <td>55-64 Years</td>\n",
       "      <td>NaN</td>\n",
       "      <td>NaN</td>\n",
       "      <td>2018-12-31</td>\n",
       "      <td>05:57</td>\n",
       "      <td>PM</td>\n",
       "      <td>Monon</td>\n",
       "      <td>0.0</td>\n",
       "      <td>0.0</td>\n",
       "      <td>Snow</td>\n",
       "      <td>IMPROPER PASSING</td>\n",
       "    </tr>\n",
       "    <tr>\n",
       "      <th>742948</th>\n",
       "      <td>903395728</td>\n",
       "      <td>Driver</td>\n",
       "      <td>M</td>\n",
       "      <td>25-34 Years</td>\n",
       "      <td>Contusion/Bruise</td>\n",
       "      <td>NaN</td>\n",
       "      <td>2018-12-25</td>\n",
       "      <td>05:46</td>\n",
       "      <td>PM</td>\n",
       "      <td>Tell City</td>\n",
       "      <td>1.0</td>\n",
       "      <td>0.0</td>\n",
       "      <td>Cloudy</td>\n",
       "      <td>RAN OFF ROAD</td>\n",
       "    </tr>\n",
       "    <tr>\n",
       "      <th>223505</th>\n",
       "      <td>903395728</td>\n",
       "      <td>Owner Vehicle</td>\n",
       "      <td>NaN</td>\n",
       "      <td>NaN</td>\n",
       "      <td>NaN</td>\n",
       "      <td>NaN</td>\n",
       "      <td>2018-12-25</td>\n",
       "      <td>05:46</td>\n",
       "      <td>PM</td>\n",
       "      <td>Tell City</td>\n",
       "      <td>1.0</td>\n",
       "      <td>0.0</td>\n",
       "      <td>Cloudy</td>\n",
       "      <td>RAN OFF ROAD</td>\n",
       "    </tr>\n",
       "    <tr>\n",
       "      <th>564332</th>\n",
       "      <td>903401646</td>\n",
       "      <td>Driver</td>\n",
       "      <td>M</td>\n",
       "      <td>55-64 Years</td>\n",
       "      <td>NaN</td>\n",
       "      <td>NaN</td>\n",
       "      <td>2018-12-26</td>\n",
       "      <td>02:08</td>\n",
       "      <td>PM</td>\n",
       "      <td>Clinton (Vermillion County)</td>\n",
       "      <td>0.0</td>\n",
       "      <td>0.0</td>\n",
       "      <td>Clear</td>\n",
       "      <td>DISREGARD SIGNAL/REG SIGN</td>\n",
       "    </tr>\n",
       "    <tr>\n",
       "      <th>206780</th>\n",
       "      <td>903401646</td>\n",
       "      <td>Owner Vehicle</td>\n",
       "      <td>NaN</td>\n",
       "      <td>NaN</td>\n",
       "      <td>NaN</td>\n",
       "      <td>NaN</td>\n",
       "      <td>2018-12-26</td>\n",
       "      <td>02:08</td>\n",
       "      <td>PM</td>\n",
       "      <td>Clinton (Vermillion County)</td>\n",
       "      <td>0.0</td>\n",
       "      <td>0.0</td>\n",
       "      <td>Clear</td>\n",
       "      <td>DISREGARD SIGNAL/REG SIGN</td>\n",
       "    </tr>\n",
       "  </tbody>\n",
       "</table>\n",
       "<p>752370 rows × 14 columns</p>\n",
       "</div>"
      ],
      "text/plain": [
       "        INDIVIDUAL_MR_RECORD PERSONTYPEDESCR GENDERCDE      AGE_GRP  \\\n",
       "577508             903070479          Driver         F  45-54 Years   \n",
       "533542             903070479         Injured         M  15-24 Years   \n",
       "237545             903070479   Owner Vehicle       NaN          NaN   \n",
       "534723             903070479          Driver         M  25-34 Years   \n",
       "240277             903070479   Owner Vehicle       NaN          NaN   \n",
       "...                      ...             ...       ...          ...   \n",
       "630468             903384692          Driver         M  55-64 Years   \n",
       "742948             903395728          Driver         M  25-34 Years   \n",
       "223505             903395728   Owner Vehicle       NaN          NaN   \n",
       "564332             903401646          Driver         M  55-64 Years   \n",
       "206780             903401646   Owner Vehicle       NaN          NaN   \n",
       "\n",
       "           INJNATUREDESCR RESULTDRUGIND     COLLDTE COLLISION_TIME  \\\n",
       "577508  Complaint of Pain           NaN  2018-01-01          12:03   \n",
       "533542  Complaint of Pain           NaN  2018-01-01          12:03   \n",
       "237545                NaN           NaN  2018-01-01          12:03   \n",
       "534723  Complaint of Pain           NaN  2018-01-01          12:03   \n",
       "240277                NaN           NaN  2018-01-01          12:03   \n",
       "...                   ...           ...         ...            ...   \n",
       "630468                NaN           NaN  2018-12-31          05:57   \n",
       "742948   Contusion/Bruise           NaN  2018-12-25          05:46   \n",
       "223505                NaN           NaN  2018-12-25          05:46   \n",
       "564332                NaN           NaN  2018-12-26          02:08   \n",
       "206780                NaN           NaN  2018-12-26          02:08   \n",
       "\n",
       "       COLLISION_TIME_AM_PM                    CITYDESCR  INJUREDNMB  DEADNMB  \\\n",
       "577508                   AM                   Fort Wayne         3.0      0.0   \n",
       "533542                   AM                   Fort Wayne         3.0      0.0   \n",
       "237545                   AM                   Fort Wayne         3.0      0.0   \n",
       "534723                   AM                   Fort Wayne         3.0      0.0   \n",
       "240277                   AM                   Fort Wayne         3.0      0.0   \n",
       "...                     ...                          ...         ...      ...   \n",
       "630468                   PM                        Monon         0.0      0.0   \n",
       "742948                   PM                    Tell City         1.0      0.0   \n",
       "223505                   PM                    Tell City         1.0      0.0   \n",
       "564332                   PM  Clinton (Vermillion County)         0.0      0.0   \n",
       "206780                   PM  Clinton (Vermillion County)         0.0      0.0   \n",
       "\n",
       "       WEATHERDESCR         PRIMARYFACTORDESCR  \n",
       "577508       Cloudy  DISREGARD SIGNAL/REG SIGN  \n",
       "533542       Cloudy  DISREGARD SIGNAL/REG SIGN  \n",
       "237545       Cloudy  DISREGARD SIGNAL/REG SIGN  \n",
       "534723       Cloudy  DISREGARD SIGNAL/REG SIGN  \n",
       "240277       Cloudy  DISREGARD SIGNAL/REG SIGN  \n",
       "...             ...                        ...  \n",
       "630468         Snow           IMPROPER PASSING  \n",
       "742948       Cloudy               RAN OFF ROAD  \n",
       "223505       Cloudy               RAN OFF ROAD  \n",
       "564332        Clear  DISREGARD SIGNAL/REG SIGN  \n",
       "206780        Clear  DISREGARD SIGNAL/REG SIGN  \n",
       "\n",
       "[752370 rows x 14 columns]"
      ]
     },
     "execution_count": 7,
     "metadata": {},
     "output_type": "execute_result"
    }
   ],
   "source": [
    "raw_df.sort_values(\"INDIVIDUAL_MR_RECORD\")"
   ]
  },
  {
   "cell_type": "markdown",
   "metadata": {},
   "source": [
    "Let's look at just one incident; it looks like the drivers, any injured passengers, and the owners are all listed (although no information is given about owners)."
   ]
  },
  {
   "cell_type": "code",
   "execution_count": 8,
   "metadata": {},
   "outputs": [
    {
     "data": {
      "text/html": [
       "<div>\n",
       "<style scoped>\n",
       "    .dataframe tbody tr th:only-of-type {\n",
       "        vertical-align: middle;\n",
       "    }\n",
       "\n",
       "    .dataframe tbody tr th {\n",
       "        vertical-align: top;\n",
       "    }\n",
       "\n",
       "    .dataframe thead th {\n",
       "        text-align: right;\n",
       "    }\n",
       "</style>\n",
       "<table border=\"1\" class=\"dataframe\">\n",
       "  <thead>\n",
       "    <tr style=\"text-align: right;\">\n",
       "      <th></th>\n",
       "      <th>INDIVIDUAL_MR_RECORD</th>\n",
       "      <th>PERSONTYPEDESCR</th>\n",
       "      <th>GENDERCDE</th>\n",
       "      <th>AGE_GRP</th>\n",
       "      <th>INJNATUREDESCR</th>\n",
       "      <th>RESULTDRUGIND</th>\n",
       "      <th>COLLDTE</th>\n",
       "      <th>COLLISION_TIME</th>\n",
       "      <th>COLLISION_TIME_AM_PM</th>\n",
       "      <th>CITYDESCR</th>\n",
       "      <th>INJUREDNMB</th>\n",
       "      <th>DEADNMB</th>\n",
       "      <th>WEATHERDESCR</th>\n",
       "      <th>PRIMARYFACTORDESCR</th>\n",
       "    </tr>\n",
       "  </thead>\n",
       "  <tbody>\n",
       "    <tr>\n",
       "      <th>237545</th>\n",
       "      <td>903070479</td>\n",
       "      <td>Owner Vehicle</td>\n",
       "      <td>NaN</td>\n",
       "      <td>NaN</td>\n",
       "      <td>NaN</td>\n",
       "      <td>NaN</td>\n",
       "      <td>2018-01-01</td>\n",
       "      <td>12:03</td>\n",
       "      <td>AM</td>\n",
       "      <td>Fort Wayne</td>\n",
       "      <td>3.0</td>\n",
       "      <td>0.0</td>\n",
       "      <td>Cloudy</td>\n",
       "      <td>DISREGARD SIGNAL/REG SIGN</td>\n",
       "    </tr>\n",
       "    <tr>\n",
       "      <th>240277</th>\n",
       "      <td>903070479</td>\n",
       "      <td>Owner Vehicle</td>\n",
       "      <td>NaN</td>\n",
       "      <td>NaN</td>\n",
       "      <td>NaN</td>\n",
       "      <td>NaN</td>\n",
       "      <td>2018-01-01</td>\n",
       "      <td>12:03</td>\n",
       "      <td>AM</td>\n",
       "      <td>Fort Wayne</td>\n",
       "      <td>3.0</td>\n",
       "      <td>0.0</td>\n",
       "      <td>Cloudy</td>\n",
       "      <td>DISREGARD SIGNAL/REG SIGN</td>\n",
       "    </tr>\n",
       "    <tr>\n",
       "      <th>533542</th>\n",
       "      <td>903070479</td>\n",
       "      <td>Injured</td>\n",
       "      <td>M</td>\n",
       "      <td>15-24 Years</td>\n",
       "      <td>Complaint of Pain</td>\n",
       "      <td>NaN</td>\n",
       "      <td>2018-01-01</td>\n",
       "      <td>12:03</td>\n",
       "      <td>AM</td>\n",
       "      <td>Fort Wayne</td>\n",
       "      <td>3.0</td>\n",
       "      <td>0.0</td>\n",
       "      <td>Cloudy</td>\n",
       "      <td>DISREGARD SIGNAL/REG SIGN</td>\n",
       "    </tr>\n",
       "    <tr>\n",
       "      <th>534723</th>\n",
       "      <td>903070479</td>\n",
       "      <td>Driver</td>\n",
       "      <td>M</td>\n",
       "      <td>25-34 Years</td>\n",
       "      <td>Complaint of Pain</td>\n",
       "      <td>NaN</td>\n",
       "      <td>2018-01-01</td>\n",
       "      <td>12:03</td>\n",
       "      <td>AM</td>\n",
       "      <td>Fort Wayne</td>\n",
       "      <td>3.0</td>\n",
       "      <td>0.0</td>\n",
       "      <td>Cloudy</td>\n",
       "      <td>DISREGARD SIGNAL/REG SIGN</td>\n",
       "    </tr>\n",
       "    <tr>\n",
       "      <th>577508</th>\n",
       "      <td>903070479</td>\n",
       "      <td>Driver</td>\n",
       "      <td>F</td>\n",
       "      <td>45-54 Years</td>\n",
       "      <td>Complaint of Pain</td>\n",
       "      <td>NaN</td>\n",
       "      <td>2018-01-01</td>\n",
       "      <td>12:03</td>\n",
       "      <td>AM</td>\n",
       "      <td>Fort Wayne</td>\n",
       "      <td>3.0</td>\n",
       "      <td>0.0</td>\n",
       "      <td>Cloudy</td>\n",
       "      <td>DISREGARD SIGNAL/REG SIGN</td>\n",
       "    </tr>\n",
       "  </tbody>\n",
       "</table>\n",
       "</div>"
      ],
      "text/plain": [
       "        INDIVIDUAL_MR_RECORD PERSONTYPEDESCR GENDERCDE      AGE_GRP  \\\n",
       "237545             903070479   Owner Vehicle       NaN          NaN   \n",
       "240277             903070479   Owner Vehicle       NaN          NaN   \n",
       "533542             903070479         Injured         M  15-24 Years   \n",
       "534723             903070479          Driver         M  25-34 Years   \n",
       "577508             903070479          Driver         F  45-54 Years   \n",
       "\n",
       "           INJNATUREDESCR RESULTDRUGIND     COLLDTE COLLISION_TIME  \\\n",
       "237545                NaN           NaN  2018-01-01          12:03   \n",
       "240277                NaN           NaN  2018-01-01          12:03   \n",
       "533542  Complaint of Pain           NaN  2018-01-01          12:03   \n",
       "534723  Complaint of Pain           NaN  2018-01-01          12:03   \n",
       "577508  Complaint of Pain           NaN  2018-01-01          12:03   \n",
       "\n",
       "       COLLISION_TIME_AM_PM   CITYDESCR  INJUREDNMB  DEADNMB WEATHERDESCR  \\\n",
       "237545                   AM  Fort Wayne         3.0      0.0       Cloudy   \n",
       "240277                   AM  Fort Wayne         3.0      0.0       Cloudy   \n",
       "533542                   AM  Fort Wayne         3.0      0.0       Cloudy   \n",
       "534723                   AM  Fort Wayne         3.0      0.0       Cloudy   \n",
       "577508                   AM  Fort Wayne         3.0      0.0       Cloudy   \n",
       "\n",
       "               PRIMARYFACTORDESCR  \n",
       "237545  DISREGARD SIGNAL/REG SIGN  \n",
       "240277  DISREGARD SIGNAL/REG SIGN  \n",
       "533542  DISREGARD SIGNAL/REG SIGN  \n",
       "534723  DISREGARD SIGNAL/REG SIGN  \n",
       "577508  DISREGARD SIGNAL/REG SIGN  "
      ]
     },
     "execution_count": 8,
     "metadata": {},
     "output_type": "execute_result"
    }
   ],
   "source": [
    "raw_df.loc[raw_df.INDIVIDUAL_MR_RECORD == 903070479,]"
   ]
  },
  {
   "cell_type": "markdown",
   "metadata": {},
   "source": [
    "Let's see if this is true more broadly. It seems like the \"Owner Vehicle\" rows just aren't going to be much use to us at all. Let's try to get a sense of how common they are, and if they really never contain information"
   ]
  },
  {
   "cell_type": "code",
   "execution_count": 9,
   "metadata": {},
   "outputs": [
    {
     "data": {
      "text/plain": [
       "370651"
      ]
     },
     "execution_count": 9,
     "metadata": {},
     "output_type": "execute_result"
    }
   ],
   "source": [
    "len(raw_df[raw_df.PERSONTYPEDESCR == 'Owner Vehicle'])"
   ]
  },
  {
   "cell_type": "code",
   "execution_count": 10,
   "metadata": {},
   "outputs": [
    {
     "data": {
      "text/plain": [
       "INDIVIDUAL_MR_RECORD         0\n",
       "PERSONTYPEDESCR              0\n",
       "GENDERCDE               370365\n",
       "AGE_GRP                 370357\n",
       "INJNATUREDESCR          370644\n",
       "RESULTDRUGIND           370651\n",
       "COLLDTE                      0\n",
       "COLLISION_TIME               0\n",
       "COLLISION_TIME_AM_PM         3\n",
       "CITYDESCR                  360\n",
       "INJUREDNMB                 279\n",
       "DEADNMB                    172\n",
       "WEATHERDESCR               496\n",
       "PRIMARYFACTORDESCR        1315\n",
       "dtype: int64"
      ]
     },
     "execution_count": 10,
     "metadata": {},
     "output_type": "execute_result"
    }
   ],
   "source": [
    "raw_df[raw_df.PERSONTYPEDESCR == 'Owner Vehicle'].isna().sum()"
   ]
  },
  {
   "cell_type": "markdown",
   "metadata": {},
   "source": [
    "Looks like for the data we have here, the \"Owner Vehicle\" entries aren't giving us any extra information, so let's just remove them."
   ]
  },
  {
   "cell_type": "code",
   "execution_count": 11,
   "metadata": {},
   "outputs": [],
   "source": [
    "raw_df = raw_df[raw_df.PERSONTYPEDESCR != 'Owner Vehicle']"
   ]
  },
  {
   "cell_type": "markdown",
   "metadata": {},
   "source": [
    "## Creating measures from raw data\n",
    "\n",
    "It is very common that the raw data isn't in the form that you need it. You need to figure out how to transform it into something usable for the statistics and/or visualizations that you want to produce.\n",
    "\n",
    "In this case, I'm going to take the goal of understanding collisions. Each row of the data represents a person, not a collision, so if we visualized or analyzed the raw data, we could be misled, as collisions with more people would receive more weight.\n",
    "\n",
    "So, what we need to do is to build a dataset of accidents, with datetime, weather, number injured, and number killed.\n",
    "\n",
    "My suspicion, based on what I've seen so far, is that all of these are the same across each of the rows for a given collision. It is worth testing that assumption, though."
   ]
  },
  {
   "cell_type": "code",
   "execution_count": 12,
   "metadata": {},
   "outputs": [
    {
     "data": {
      "text/plain": [
       "0"
      ]
     },
     "execution_count": 12,
     "metadata": {},
     "output_type": "execute_result"
    }
   ],
   "source": [
    "grouped = raw_df.sort_values(['COLLDTE', 'COLLISION_TIME']).groupby(\"INDIVIDUAL_MR_RECORD\")\n",
    "\n",
    "# For example, this is a simple test of the number of unique weather descriptions per group.\n",
    "sum(grouped.WEATHERDESCR.nunique() > 1)"
   ]
  },
  {
   "cell_type": "code",
   "execution_count": 13,
   "metadata": {},
   "outputs": [
    {
     "name": "stdout",
     "output_type": "stream",
     "text": [
      "0\n",
      "0\n"
     ]
    }
   ],
   "source": [
    "# We see the same for number injured and number killed\n",
    "print(sum(grouped.INJUREDNMB.nunique() > 1))\n",
    "print(sum(grouped.DEADNMB.nunique() > 1))"
   ]
  },
  {
   "cell_type": "markdown",
   "metadata": {},
   "source": [
    "So, we can move forward with the assumption that just getting the first value is good enough for summarizing the accident."
   ]
  },
  {
   "cell_type": "code",
   "execution_count": 14,
   "metadata": {},
   "outputs": [
    {
     "data": {
      "text/html": [
       "<div>\n",
       "<style scoped>\n",
       "    .dataframe tbody tr th:only-of-type {\n",
       "        vertical-align: middle;\n",
       "    }\n",
       "\n",
       "    .dataframe tbody tr th {\n",
       "        vertical-align: top;\n",
       "    }\n",
       "\n",
       "    .dataframe thead th {\n",
       "        text-align: right;\n",
       "    }\n",
       "</style>\n",
       "<table border=\"1\" class=\"dataframe\">\n",
       "  <thead>\n",
       "    <tr style=\"text-align: right;\">\n",
       "      <th></th>\n",
       "      <th>date</th>\n",
       "      <th>time</th>\n",
       "      <th>injured</th>\n",
       "      <th>deceased</th>\n",
       "      <th>weather</th>\n",
       "      <th>accident_count</th>\n",
       "    </tr>\n",
       "    <tr>\n",
       "      <th>INDIVIDUAL_MR_RECORD</th>\n",
       "      <th></th>\n",
       "      <th></th>\n",
       "      <th></th>\n",
       "      <th></th>\n",
       "      <th></th>\n",
       "      <th></th>\n",
       "    </tr>\n",
       "  </thead>\n",
       "  <tbody>\n",
       "    <tr>\n",
       "      <th>903070479</th>\n",
       "      <td>2018-01-01</td>\n",
       "      <td>12:03AM</td>\n",
       "      <td>3.0</td>\n",
       "      <td>0.0</td>\n",
       "      <td>Cloudy</td>\n",
       "      <td>1</td>\n",
       "    </tr>\n",
       "    <tr>\n",
       "      <th>903070487</th>\n",
       "      <td>2018-01-01</td>\n",
       "      <td>12:48AM</td>\n",
       "      <td>0.0</td>\n",
       "      <td>0.0</td>\n",
       "      <td>Snow</td>\n",
       "      <td>1</td>\n",
       "    </tr>\n",
       "    <tr>\n",
       "      <th>903070491</th>\n",
       "      <td>2018-01-01</td>\n",
       "      <td>12:57AM</td>\n",
       "      <td>0.0</td>\n",
       "      <td>0.0</td>\n",
       "      <td>Clear</td>\n",
       "      <td>1</td>\n",
       "    </tr>\n",
       "    <tr>\n",
       "      <th>903070495</th>\n",
       "      <td>2018-01-01</td>\n",
       "      <td>12:45AM</td>\n",
       "      <td>0.0</td>\n",
       "      <td>0.0</td>\n",
       "      <td>Snow</td>\n",
       "      <td>1</td>\n",
       "    </tr>\n",
       "    <tr>\n",
       "      <th>903070497</th>\n",
       "      <td>2018-01-01</td>\n",
       "      <td>12:26AM</td>\n",
       "      <td>0.0</td>\n",
       "      <td>0.0</td>\n",
       "      <td>Snow</td>\n",
       "      <td>1</td>\n",
       "    </tr>\n",
       "    <tr>\n",
       "      <th>...</th>\n",
       "      <td>...</td>\n",
       "      <td>...</td>\n",
       "      <td>...</td>\n",
       "      <td>...</td>\n",
       "      <td>...</td>\n",
       "      <td>...</td>\n",
       "    </tr>\n",
       "    <tr>\n",
       "      <th>903377525</th>\n",
       "      <td>2018-12-26</td>\n",
       "      <td>03:02PM</td>\n",
       "      <td>0.0</td>\n",
       "      <td>0.0</td>\n",
       "      <td>Clear</td>\n",
       "      <td>1</td>\n",
       "    </tr>\n",
       "    <tr>\n",
       "      <th>903377671</th>\n",
       "      <td>2018-12-27</td>\n",
       "      <td>09:45PM</td>\n",
       "      <td>0.0</td>\n",
       "      <td>0.0</td>\n",
       "      <td>Cloudy</td>\n",
       "      <td>1</td>\n",
       "    </tr>\n",
       "    <tr>\n",
       "      <th>903384692</th>\n",
       "      <td>2018-12-31</td>\n",
       "      <td>05:57PM</td>\n",
       "      <td>0.0</td>\n",
       "      <td>0.0</td>\n",
       "      <td>Snow</td>\n",
       "      <td>1</td>\n",
       "    </tr>\n",
       "    <tr>\n",
       "      <th>903395728</th>\n",
       "      <td>2018-12-25</td>\n",
       "      <td>05:46PM</td>\n",
       "      <td>1.0</td>\n",
       "      <td>0.0</td>\n",
       "      <td>Cloudy</td>\n",
       "      <td>1</td>\n",
       "    </tr>\n",
       "    <tr>\n",
       "      <th>903401646</th>\n",
       "      <td>2018-12-26</td>\n",
       "      <td>02:08PM</td>\n",
       "      <td>0.0</td>\n",
       "      <td>0.0</td>\n",
       "      <td>Clear</td>\n",
       "      <td>1</td>\n",
       "    </tr>\n",
       "  </tbody>\n",
       "</table>\n",
       "<p>214019 rows × 6 columns</p>\n",
       "</div>"
      ],
      "text/plain": [
       "                            date     time  injured  deceased weather  \\\n",
       "INDIVIDUAL_MR_RECORD                                                   \n",
       "903070479             2018-01-01  12:03AM      3.0       0.0  Cloudy   \n",
       "903070487             2018-01-01  12:48AM      0.0       0.0    Snow   \n",
       "903070491             2018-01-01  12:57AM      0.0       0.0   Clear   \n",
       "903070495             2018-01-01  12:45AM      0.0       0.0    Snow   \n",
       "903070497             2018-01-01  12:26AM      0.0       0.0    Snow   \n",
       "...                          ...      ...      ...       ...     ...   \n",
       "903377525             2018-12-26  03:02PM      0.0       0.0   Clear   \n",
       "903377671             2018-12-27  09:45PM      0.0       0.0  Cloudy   \n",
       "903384692             2018-12-31  05:57PM      0.0       0.0    Snow   \n",
       "903395728             2018-12-25  05:46PM      1.0       0.0  Cloudy   \n",
       "903401646             2018-12-26  02:08PM      0.0       0.0   Clear   \n",
       "\n",
       "                      accident_count  \n",
       "INDIVIDUAL_MR_RECORD                  \n",
       "903070479                          1  \n",
       "903070487                          1  \n",
       "903070491                          1  \n",
       "903070495                          1  \n",
       "903070497                          1  \n",
       "...                              ...  \n",
       "903377525                          1  \n",
       "903377671                          1  \n",
       "903384692                          1  \n",
       "903395728                          1  \n",
       "903401646                          1  \n",
       "\n",
       "[214019 rows x 6 columns]"
      ]
     },
     "execution_count": 14,
     "metadata": {},
     "output_type": "execute_result"
    }
   ],
   "source": [
    "# Get the first entry for each of these\n",
    "coll_df = pd.DataFrame({\"date\" : grouped.COLLDTE.first(),\n",
    "                        \"time\": grouped.COLLISION_TIME.first() + grouped.COLLISION_TIME_AM_PM.first(), \n",
    "                        \"injured\": grouped.INJUREDNMB.first(),\n",
    "                        \"deceased\": grouped.DEADNMB.first(),\n",
    "                        \"weather\": grouped.WEATHERDESCR.first(),\n",
    "                        \"accident_count\": 1\n",
    "                       })\n",
    "\n",
    "coll_df"
   ]
  },
  {
   "cell_type": "code",
   "execution_count": 15,
   "metadata": {},
   "outputs": [
    {
     "data": {
      "text/plain": [
       "date                0\n",
       "time                2\n",
       "injured           256\n",
       "deceased          175\n",
       "weather           501\n",
       "accident_count      0\n",
       "dtype: int64"
      ]
     },
     "execution_count": 15,
     "metadata": {},
     "output_type": "execute_result"
    }
   ],
   "source": [
    "coll_df.isna().sum()"
   ]
  },
  {
   "cell_type": "code",
   "execution_count": 16,
   "metadata": {},
   "outputs": [
    {
     "data": {
      "text/plain": [
       "214019"
      ]
     },
     "execution_count": 16,
     "metadata": {},
     "output_type": "execute_result"
    }
   ],
   "source": [
    "len(coll_df)"
   ]
  },
  {
   "cell_type": "markdown",
   "metadata": {},
   "source": [
    "## Visualizing our data\n",
    "\n",
    "We finally(!) have a dataset that we understand and that we can use in order to start to answer the questions we're interested in.\n",
    "\n",
    "As before, we need to get the date and time into a datetime object in the index.\n",
    "\n",
    "`pd.to_datetime` tries to convert a string into a datetime. I had to add a space in between the two columns to get it to work, but this does the trick."
   ]
  },
  {
   "cell_type": "code",
   "execution_count": 17,
   "metadata": {},
   "outputs": [
    {
     "name": "stderr",
     "output_type": "stream",
     "text": [
      "/var/folders/vh/sqk7v_s5341b114b1gjpxhrh0000gn/T/ipykernel_6237/2959724414.py:1: UserWarning: Could not infer format, so each element will be parsed individually, falling back to `dateutil`. To ensure parsing is consistent and as-expected, please specify a format.\n",
      "  coll_df.index = pd.to_datetime(coll_df.date + ' ' + coll_df.time)\n"
     ]
    }
   ],
   "source": [
    "coll_df.index = pd.to_datetime(coll_df.date + ' ' + coll_df.time)"
   ]
  },
  {
   "cell_type": "markdown",
   "metadata": {},
   "source": [
    "Let's look at the total number of accidents by month over 2018."
   ]
  },
  {
   "cell_type": "code",
   "execution_count": 18,
   "metadata": {},
   "outputs": [
    {
     "data": {
      "text/plain": [
       "<Axes: >"
      ]
     },
     "execution_count": 18,
     "metadata": {},
     "output_type": "execute_result"
    },
    {
     "data": {
      "image/png": "[encoded data removed]",
      "text/plain": [
       "<Figure size 640x480 with 1 Axes>"
      ]
     },
     "metadata": {},
     "output_type": "display_data"
    }
   ],
   "source": [
    "coll_df.resample('M').size().plot()"
   ]
  },
  {
   "cell_type": "markdown",
   "metadata": {},
   "source": [
    "And how about the relationship between weather and accidents?"
   ]
  },
  {
   "cell_type": "code",
   "execution_count": 19,
   "metadata": {},
   "outputs": [
    {
     "data": {
      "image/png": "[encoded data removed]",
      "text/plain": [
       "<Figure size 640x480 with 1 Axes>"
      ]
     },
     "metadata": {},
     "output_type": "display_data"
    }
   ],
   "source": [
    "weather_summary = coll_df.groupby('weather').size()\n",
    "weather_summary.plot.bar();"
   ]
  },
  {
   "cell_type": "markdown",
   "metadata": {},
   "source": [
    "How could we correct for how often weather appears?\n",
    "\n",
    "One simple way is to categorize each day by the weather that appears most often in accident reports. This obviously has some issues but it's the best we can probably do using just this data. What could be wise is to import another dataset which has historical weather data."
   ]
  },
  {
   "cell_type": "code",
   "execution_count": 20,
   "metadata": {},
   "outputs": [],
   "source": [
    "def get_mode(x):\n",
    "    return x.mode()"
   ]
  },
  {
   "cell_type": "code",
   "execution_count": 21,
   "metadata": {},
   "outputs": [
    {
     "name": "stderr",
     "output_type": "stream",
     "text": [
      "/var/folders/vh/sqk7v_s5341b114b1gjpxhrh0000gn/T/ipykernel_6237/2800633943.py:1: FutureWarning: The provided callable <built-in function sum> is currently using SeriesGroupBy.sum. In a future version of pandas, the provided callable will be used directly. To keep current behavior pass the string \"sum\" instead.\n",
      "  accidents_per_day = coll_df.groupby(coll_df.index.date).agg(\n"
     ]
    }
   ],
   "source": [
    "accidents_per_day = coll_df.groupby(coll_df.index.date).agg(\n",
    "    # Create a new column called weather which gets the modal weather for each day\n",
    "    weather = ('weather', get_mode),\n",
    "    # And accidents which is the number of accidents that day\n",
    "    accidents = ('accident_count', sum))"
   ]
  },
  {
   "cell_type": "code",
   "execution_count": 22,
   "metadata": {},
   "outputs": [
    {
     "data": {
      "image/png": "[encoded data removed]",
      "text/plain": [
       "<Figure size 640x480 with 1 Axes>"
      ]
     },
     "metadata": {},
     "output_type": "display_data"
    }
   ],
   "source": [
    "accidents_per_day.groupby('weather').accidents.mean().plot.bar();\n",
    "plt.title('Mean accidents per day for each weather type');"
   ]
  },
  {
   "cell_type": "markdown",
   "metadata": {},
   "source": [
    "## Exercises\n",
    "\n",
    "1. How would you create the above plot in Seaborn instead?\n",
    "\n",
    "2. Find a question that you'd like to answer with this data or the reddit data. Figure out how to filter/clean/group the data to produce the summary data that will help you to find that answer, and produce a visualization."
   ]
  }
 ],
 "metadata": {
  "kernelspec": {
   "display_name": "Python 3",
   "language": "python",
   "name": "python3"
  },
  "language_info": {
   "codemirror_mode": {
    "name": "ipython",
    "version": 3
   },
   "file_extension": ".py",
   "mimetype": "text/x-python",
   "name": "python",
   "nbconvert_exporter": "python",
   "pygments_lexer": "ipython3",
   "version": "3.11.4"
  }
 },
 "nbformat": 4,
 "nbformat_minor": 4
}
